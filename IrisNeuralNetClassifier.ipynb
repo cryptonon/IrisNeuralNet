{
  "nbformat": 4,
  "nbformat_minor": 0,
  "metadata": {
    "colab": {
      "name": "IrisNeuralNetClassifier.ipynb",
      "provenance": [],
      "collapsed_sections": []
    },
    "kernelspec": {
      "name": "python3",
      "display_name": "Python 3"
    }
  },
  "cells": [
    {
      "cell_type": "code",
      "metadata": {
        "id": "uK_pWIvj6TrE",
        "colab_type": "code",
        "colab": {}
      },
      "source": [
        "# Importing dependencies\n",
        "from sklearn.datasets import load_iris\n",
        "import numpy as np\n",
        "from sklearn.model_selection import train_test_split\n",
        "import matplotlib.pyplot as plt"
      ],
      "execution_count": 0,
      "outputs": []
    },
    {
      "cell_type": "markdown",
      "metadata": {
        "id": "OidRqyHbOaEY",
        "colab_type": "text"
      },
      "source": [
        "**Defining the Model**"
      ]
    },
    {
      "cell_type": "code",
      "metadata": {
        "id": "kwYqgzDjzdr0",
        "colab_type": "code",
        "colab": {}
      },
      "source": [
        "# defining the Sigmoid Activation Function\n",
        "def sigmoid (x):\n",
        "    return 1/(1 + np.exp(-x))\n",
        "\n",
        "# derivative of Sigmoid Function for backpropagation\n",
        "def derivatives_sigmoid(x):\n",
        "    return x * (1 - x)\n",
        "\n",
        "# defining the neuralnet model\n",
        "class IrisNeuralNet():\n",
        "\n",
        "    def fit(self, X, y, epoch = 50000, lr = 0.005):\n",
        "\n",
        "      # initializing the variables\n",
        "      epoch = 50000 # number of training iterations\n",
        "      lr = 0.005 # learning rate\n",
        "      inputlayer_neurons = X.shape[1] # number of features in data set\n",
        "      hiddenlayer1_neurons = 7 # number of hidden layers neurons \n",
        "      hiddenlayer2_neurons = 4 # number of hidden layers neurons \n",
        "      output_neurons = 1 # number of neurons at output layer\n",
        "\n",
        "      # initializing weight and bias\n",
        "      self.wh1=np.random.uniform(size=(inputlayer_neurons,hiddenlayer1_neurons))\n",
        "      self.bh1=np.random.uniform(size=(1,hiddenlayer1_neurons))\n",
        "      self.wh2=np.random.uniform(size=(hiddenlayer1_neurons,hiddenlayer2_neurons))\n",
        "      self.bh2=np.random.uniform(size=(1,hiddenlayer2_neurons))\n",
        "      self.wout=np.random.uniform(size=(hiddenlayer2_neurons,output_neurons))\n",
        "      self.bout=np.random.uniform(size=(1,output_neurons))\n",
        "\n",
        "\n",
        "      # training the model\n",
        "      for i in range(epoch):\n",
        "\n",
        "          #Forward Propogation\n",
        "          hidden_layer_1_input_raw = np.dot(X, self.wh1)\n",
        "          hidden_layer_1_input = hidden_layer_1_input_raw + self.bh1\n",
        "          hiddenlayer_1_activations = sigmoid(hidden_layer_1_input)\n",
        "          hiddenlayer_2_input_raw = np.dot(hiddenlayer_1_activations, self.wh2)\n",
        "          hiddenlayer_2_input = hiddenlayer_2_input_raw + self.bh2\n",
        "          hiddenlayer_2_activations = sigmoid(hiddenlayer_2_input)\n",
        "          output_layer_input_raw = np.dot(hiddenlayer_2_activations, self.wout)\n",
        "          output_layer_input = output_layer_input_raw + self.bout\n",
        "          output = sigmoid(output_layer_input)\n",
        "\n",
        "          #Backpropagation using gradient descent\n",
        "          output_error = y-output\n",
        "          slope_output_layer = derivatives_sigmoid(output)\n",
        "          d_output = output_error * slope_output_layer\n",
        "          error_at_hidden_layer_2 = d_output.dot(self.wout.T)\n",
        "          slope_hidden_layer_2 = derivatives_sigmoid(hiddenlayer_2_activations)\n",
        "          d_hiddenlayer_2 = error_at_hidden_layer_2 * slope_hidden_layer_2\n",
        "          self.wout += hiddenlayer_2_activations.T.dot(d_output) *lr\n",
        "          self.bout += np.sum(d_output, axis=0,keepdims=True) *lr\n",
        "          error_at_hidden_layer_1 = d_hiddenlayer_2.dot(self.wh2.T)\n",
        "          slope_hidden_layer_1 = derivatives_sigmoid(hiddenlayer_1_activations)\n",
        "          d_hiddenlayer_1 = error_at_hidden_layer_1 * slope_hidden_layer_1\n",
        "          self.wh2 += d_hiddenlayer_1.T.dot(d_hiddenlayer_2) *lr\n",
        "          self.bh2 += np.sum(d_hiddenlayer_2, axis=0,keepdims=True) *lr\n",
        "          self.wh1 += X.T.dot(d_hiddenlayer_1) *lr\n",
        "          self.bh1 += np.sum(d_hiddenlayer_1, axis=0,keepdims=True) *lr\n",
        "\n",
        "\n",
        "    # for predicting the test_data\n",
        "    def predict(self, test_data):\n",
        "          input_raw = np.dot(test_data, self.wh1)\n",
        "          input_ = input_raw + self.bh1\n",
        "          layer_1_activation = sigmoid(input_)\n",
        "          layer_2_input_raw = np.dot(layer_1_activation, self.wh2)\n",
        "          layer_2_input = layer_2_input_raw + self.bh2\n",
        "          layer_2_activation = sigmoid(layer_2_input)\n",
        "          output_input_raw = np.dot(layer_2_activation, self.wout)\n",
        "          output_input= output_input_raw + self.bout\n",
        "          prediction = sigmoid(output_input)\n",
        "\n",
        "          return prediction\n"
      ],
      "execution_count": 0,
      "outputs": []
    },
    {
      "cell_type": "markdown",
      "metadata": {
        "id": "l4KkFuJNOg-K",
        "colab_type": "text"
      },
      "source": [
        "**Loading and Preprocessing the input**"
      ]
    },
    {
      "cell_type": "code",
      "metadata": {
        "id": "xiZJhcim6ki9",
        "colab_type": "code",
        "colab": {}
      },
      "source": [
        "# loading the Data\n",
        "iris = load_iris()"
      ],
      "execution_count": 0,
      "outputs": []
    },
    {
      "cell_type": "code",
      "metadata": {
        "id": "hZexHXKuGcpZ",
        "colab_type": "code",
        "colab": {}
      },
      "source": [
        "# train-test split \n",
        "train_data, test_data, train_label, test_label = train_test_split(iris.data, iris.target, test_size = 0.2)"
      ],
      "execution_count": 0,
      "outputs": []
    },
    {
      "cell_type": "code",
      "metadata": {
        "id": "yxYE7wXd9aSR",
        "colab_type": "code",
        "colab": {}
      },
      "source": [
        "# preprocessing the input\n",
        "train_label = train_label.reshape(train_label.shape[0], 1)\n",
        "test_label = test_label.reshape(test_label.shape[0], 1)"
      ],
      "execution_count": 0,
      "outputs": []
    },
    {
      "cell_type": "code",
      "metadata": {
        "id": "pm594XNjGyW6",
        "colab_type": "code",
        "colab": {}
      },
      "source": [
        "# Normalizing the input\n",
        "train_label =  train_label/2.\n",
        "test_label = test_label/2."
      ],
      "execution_count": 0,
      "outputs": []
    },
    {
      "cell_type": "markdown",
      "metadata": {
        "id": "AOPlS-qGOv4C",
        "colab_type": "text"
      },
      "source": [
        "**Training the Model**"
      ]
    },
    {
      "cell_type": "code",
      "metadata": {
        "id": "G9QjOTGv9ggf",
        "colab_type": "code",
        "colab": {}
      },
      "source": [
        "# training the model\n",
        "model = IrisNeuralNet()\n",
        "model.fit(train_data, train_label)"
      ],
      "execution_count": 0,
      "outputs": []
    },
    {
      "cell_type": "markdown",
      "metadata": {
        "id": "Ui6_F7tnO7Y3",
        "colab_type": "text"
      },
      "source": [
        "**Predicted Results from the Model**"
      ]
    },
    {
      "cell_type": "code",
      "metadata": {
        "id": "uZ2Fmlw19kig",
        "colab_type": "code",
        "colab": {}
      },
      "source": [
        "# prediction using the trained model\n",
        "prediction = classifier.predict(test_data)"
      ],
      "execution_count": 0,
      "outputs": []
    },
    {
      "cell_type": "code",
      "metadata": {
        "id": "zQnkxPc9LxPU",
        "colab_type": "code",
        "colab": {
          "base_uri": "https://localhost:8080/",
          "height": 404
        },
        "outputId": "3146e8ac-c355-463f-b093-a5479f704e1c"
      },
      "source": [
        "plt.figure(figsize=(12,6))\n",
        "plt.title(\"Analysis of Model's Performance\") \n",
        "plt.xlabel(\"Dataset Index\") \n",
        "plt.ylabel(\"Label\")\n",
        "plt.step([i for i in range(1, test_label.shape[0]+1)], test_label, \"b\", label=\"actual\")\n",
        "plt.step([i for i in range(1, test_label.shape[0]+1)], prediction, \"r\", label=\"predicted\")\n",
        "plt.legend(loc=1)\n",
        "plt.show()"
      ],
      "execution_count": 102,
      "outputs": [
        {
          "output_type": "display_data",
          "data": {
            "image/png": "[encoded data removed]",
            "text/plain": [
              "<Figure size 864x432 with 1 Axes>"
            ]
          },
          "metadata": {
            "tags": [],
            "needs_background": "light"
          }
        }
      ]
    }
  ]
}